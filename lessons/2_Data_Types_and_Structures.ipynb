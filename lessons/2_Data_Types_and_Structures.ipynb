{
 "cells": [
  {
   "cell_type": "markdown",
   "metadata": {
    "tags": []
   },
   "source": [
    "# Python Fundamentals: Data Types and Structures\n",
    "\n",
    "* * * \n",
    "\n",
    "<div class=\"alert alert-success\">  \n",
    "    \n",
    "### Learning Objectives \n",
    "    \n",
    "* Recognize that data comes in different types.\n",
    "* Use functions to manipulate variables.\n",
    "* Use a search engine to look up how functions work.\n",
    "* Understand when to use a list, and when to use a dictionary.\n",
    "</div>\n",
    "\n",
    "\n",
    "### Icons Used in This Notebook\n",
    "🔔 **Question**: A quick question to help you understand what's going on.<br>\n",
    "🥊 **Challenge**: Interactive exercise. We'll work through these in the workshop!<br>\n",
    "💡 **Tip**: How to do something a bit more efficiently or effectively.<br>\n",
    "⚠️ **Warning:** Heads-up about tricky stuff or common mistakes.<br>\n",
    "📝 **Poll:** A Zoom poll to help you learn!<br>\n",
    "🎬 **Demo**: Showing off something more advanced – so you know what Python can be used for!<br>\n",
    "\n",
    "\n",
    "### Sections\n",
    "1. [Data Types in Python](#dtypes) \n",
    "2. [Functions and Methods](#func)\n",
    "3. [Lists: Ordered Data Structures](#lists)\n",
    "4. [Dictonaries: Key-Value Pairs](#dicts)"
   ]
  },
  {
   "cell_type": "markdown",
   "metadata": {},
   "source": [
    "<a id='dtypes'></a>\n",
    "\n",
    "# Data Types in Python\n",
    "\n",
    "**Data types** are classifications of data. Programming languages need separate data types, because you can do different kinds of things with different kinds of data. For instance, think of \"rounding off\" – this makes sense with numbers, but not so much with text.\n",
    "\n",
    "There are a lot of data types in Python. Today, we'll introduce **integers, floats, and strings**. We will also cover **lists and dictionaries**, which offer ways of organizing data and are sometimes called data structures."
   ]
  },
  {
   "cell_type": "markdown",
   "metadata": {
    "tags": []
   },
   "source": [
    "We can use the `type()` **function** to identify the type of a variable. Functions are signified by parentheses following them, which contain any inputs to the function.\n",
    "\n",
    "🔔 **Question:** Let's check the type of two variables below. You don't know the names of these types yet, but broadly speaking, what do you think each variable could be classified as?"
   ]
  },
  {
   "cell_type": "code",
   "execution_count": null,
   "metadata": {
    "tags": []
   },
   "outputs": [],
   "source": [
    "life_exp = 28\n",
    "type(life_exp)"
   ]
  },
  {
   "cell_type": "code",
   "execution_count": null,
   "metadata": {
    "tags": []
   },
   "outputs": [],
   "source": [
    "continent = 'Asia'\n",
    "type(continent)"
   ]
  },
  {
   "cell_type": "markdown",
   "metadata": {},
   "source": [
    "Here are some of the most common data types you'll encounter while using Python (and programming languages in general):\n",
    "\n",
    "* **int**: Integers (e.g., `a = 2`).\n",
    "* **float**: Decimal numbers (e.g., `a = 2.01`).\n",
    "* **str**: Strings, which denotes text (e.g., `a = \"2\"` or `a = '2'`).\n",
    "\n",
    "Operations and functions work differently for different types. For example, subtraction works with numeric types like floats, but not with strings."
   ]
  },
  {
   "cell_type": "code",
   "execution_count": null,
   "metadata": {
    "scrolled": true,
    "tags": []
   },
   "outputs": [],
   "source": [
    "# Subtraction with floats\n",
    "life_exp - 2"
   ]
  },
  {
   "cell_type": "code",
   "execution_count": null,
   "metadata": {
    "tags": []
   },
   "outputs": [],
   "source": [
    "# Subtraction with strings?\n",
    "continent - 2"
   ]
  },
  {
   "cell_type": "markdown",
   "metadata": {},
   "source": [
    "In contrast, addition works for both strings and numbers:"
   ]
  },
  {
   "cell_type": "code",
   "execution_count": null,
   "metadata": {
    "tags": []
   },
   "outputs": [],
   "source": [
    "# Addition with floats\n",
    "life_exp + 2"
   ]
  },
  {
   "cell_type": "code",
   "execution_count": null,
   "metadata": {
    "tags": []
   },
   "outputs": [],
   "source": [
    "# Addition with strings = concatenation\n",
    "'South-' + continent"
   ]
  },
  {
   "cell_type": "markdown",
   "metadata": {},
   "source": [
    "### 💡 Tip: Guidelines for Variable Names\n",
    "\n",
    "- Python is case-sensitive (`life_exp` and `Life_exp` are two separate variables).\n",
    "- Use meaningful variable names (e.g. `continent` is more informative than `a_variable`). Ideally, you should be able to tell what is going on in the code and variables without having to run it.\n",
    "- Don't use variable names that refer to existing variables and functions in Python (e.g., `print`, `sum`, `str`)."
   ]
  },
  {
   "cell_type": "markdown",
   "metadata": {
    "tags": []
   },
   "source": [
    "## Type Conversion\n",
    "\n",
    "Types can get confusing. For instance, we can write a number as either an integer or a string. Python treats these differently, even if to us the value is the same:"
   ]
  },
  {
   "cell_type": "code",
   "execution_count": null,
   "metadata": {
    "scrolled": true,
    "tags": []
   },
   "outputs": [],
   "source": [
    "a = '3'\n",
    "b = 3\n",
    "\n",
    "b - a"
   ]
  },
  {
   "cell_type": "markdown",
   "metadata": {},
   "source": [
    "Even though our intention is to do numeric subtraction, the type of `a` is a string, which results in an error.\n",
    "\n",
    "If we could convert this to an integer, the operation will work. \n",
    "\n",
    "We can do this with **type conversion**. The `int()` function will convert the input to an integer:"
   ]
  },
  {
   "cell_type": "code",
   "execution_count": null,
   "metadata": {
    "tags": []
   },
   "outputs": [],
   "source": [
    "int(a)"
   ]
  },
  {
   "cell_type": "code",
   "execution_count": null,
   "metadata": {
    "tags": []
   },
   "outputs": [],
   "source": [
    "type(int(a))"
   ]
  },
  {
   "cell_type": "code",
   "execution_count": null,
   "metadata": {
    "tags": []
   },
   "outputs": [],
   "source": [
    "b - int(a)"
   ]
  },
  {
   "cell_type": "markdown",
   "metadata": {},
   "source": [
    "There are other type conversion functions.\n",
    "\n",
    "- `str()` converts a variable to a string.\n",
    "- `float()` converts a variable to a float. \n",
    "\n",
    "⚠️ **Warning:** If the value cannot be converted to that type, the function will return a `ValueError`. Run the cell below."
   ]
  },
  {
   "cell_type": "code",
   "execution_count": null,
   "metadata": {
    "tags": []
   },
   "outputs": [],
   "source": [
    "int('Netherlands')"
   ]
  },
  {
   "cell_type": "markdown",
   "metadata": {},
   "source": [
    "In the above case, the error means that **non-numeric characters** cannot be interpreted as a number."
   ]
  },
  {
   "cell_type": "markdown",
   "metadata": {},
   "source": [
    "## 🥊 Challenge 1: What's Your Type?</span>\n",
    "\n",
    "What is the type of the following expressions? Run these cells and wrap them in a `type()` function to see!\n",
    "\n",
    "💡 **Tip:** If you don't understand what `round()` does, use a search engine to look up `python round` and see if you can find answers. "
   ]
  },
  {
   "cell_type": "code",
   "execution_count": null,
   "metadata": {
    "tags": []
   },
   "outputs": [],
   "source": [
    "# 1\n",
    "b - int(a)"
   ]
  },
  {
   "cell_type": "code",
   "execution_count": null,
   "metadata": {},
   "outputs": [],
   "source": [
    "# 2\n",
    "round(2.44)"
   ]
  },
  {
   "cell_type": "code",
   "execution_count": null,
   "metadata": {},
   "outputs": [],
   "source": [
    "# 3\n",
    "['Afghanistan','Canada','Zimbabwe']"
   ]
  },
  {
   "cell_type": "markdown",
   "metadata": {},
   "source": [
    "📝 **Poll PyFun 2-1:** What is the type of the expressions?"
   ]
  },
  {
   "cell_type": "markdown",
   "metadata": {
    "tags": []
   },
   "source": [
    "<a id='func'></a>\n",
    "\n",
    "# Functions and Methods\n",
    "\n",
    "You've been using **functions** like `print()` and `type()`, to carry out common tasks with data and variables.\n",
    "\n",
    "Functions can be recognized by their trailing parentheses `()`. The data you want to apply the function to goes inside those parentheses.\n",
    "\n",
    "You can even wrap functions into one another. This is called **nesting**. The output of the inner function will become the input of the outer function. Like this:"
   ]
  },
  {
   "cell_type": "code",
   "execution_count": null,
   "metadata": {},
   "outputs": [],
   "source": [
    "type(round(3.5))"
   ]
  },
  {
   "cell_type": "markdown",
   "metadata": {
    "tags": []
   },
   "source": [
    "A **method** is a special type of function: one that belongs to a **particular type of object**, like a string or an integer. Methods allow you to do different things with different objects.\n",
    "\n",
    "For instance, we can use a method to turn a string variable into lowercase or uppercase. These lowercase and uppercase methods don't exist for integers, though. That's why we call them methods instead of functions – and why we access them in a different way.\n",
    "\n",
    "You can access (and recognize) methods through **dot notation**. It looks like this: `variable.method()`\n",
    "\n",
    "Let's look at the built-in method `upper()`, which can be applied to a string-type variable:"
   ]
  },
  {
   "cell_type": "code",
   "execution_count": null,
   "metadata": {
    "tags": []
   },
   "outputs": [],
   "source": [
    "country = 'Greece'\n",
    "country.upper()"
   ]
  },
  {
   "cell_type": "markdown",
   "metadata": {},
   "source": [
    "🔔 **Question**: What do you think the below cell does?"
   ]
  },
  {
   "cell_type": "code",
   "execution_count": null,
   "metadata": {
    "tags": []
   },
   "outputs": [],
   "source": [
    "country.lower()"
   ]
  },
  {
   "cell_type": "markdown",
   "metadata": {},
   "source": [
    "Note that you can run methods on variables that hold a data value, or on the data values directly!"
   ]
  },
  {
   "cell_type": "markdown",
   "metadata": {
    "tags": []
   },
   "source": [
    "## 🥊 Challenge 2: Chaining Methods\n",
    "\n",
    "Methods can be **chained** in a single line. This is fine, as long as the output of one method directly feeds into the input of the next. These lines can be read sequentially left to right. \n",
    "\n",
    "Don't run the next code cell yet! Use your search engine to look up the two methods that `country` goes through: `lower()` and `startswith()`.\n",
    "\n",
    "After reading up about what these methods do, what do you think the final output of this cell will be?"
   ]
  },
  {
   "cell_type": "code",
   "execution_count": null,
   "metadata": {
    "tags": []
   },
   "outputs": [],
   "source": [
    "country.lower().startswith('g')"
   ]
  },
  {
   "cell_type": "markdown",
   "metadata": {},
   "source": [
    "💡 **Tip**: Recall that when you're doing the same kind of thing with functions, it looks a bit different. You read these **nested functions** from the inside out."
   ]
  },
  {
   "cell_type": "code",
   "execution_count": null,
   "metadata": {},
   "outputs": [],
   "source": [
    "print(type(int('3')))"
   ]
  },
  {
   "cell_type": "markdown",
   "metadata": {},
   "source": [
    "## Adding Arguments\n",
    "\n",
    "As you can see, functions typically take their input between the parentheses (e.g. `type()` takes the variable you want to know the type of). Methods, on the other hand, don't always take values in between their parentheses.\n",
    "\n",
    "For instance, in the cell above, the `lower()` method doesn't take any values in between the parentheses, but the `startswith()` method does.\n",
    "\n",
    "Methods (and functions too) can often take additional values that alter their behavior. These values, that go in between the parentheses, are called **arguments**. Let's try them out."
   ]
  },
  {
   "cell_type": "markdown",
   "metadata": {},
   "source": [
    "## 🥊 Challenge 3: Time to Split\n",
    "\n",
    "First, let's save a string in a variable."
   ]
  },
  {
   "cell_type": "code",
   "execution_count": null,
   "metadata": {
    "tags": []
   },
   "outputs": [],
   "source": [
    "sentence = 'The capital of Brazil is Brasília. It has a tropical savanna climate.'"
   ]
  },
  {
   "cell_type": "markdown",
   "metadata": {},
   "source": [
    "We can use the `split()` method on `sentence`. Try it out below."
   ]
  },
  {
   "cell_type": "code",
   "execution_count": null,
   "metadata": {
    "tags": []
   },
   "outputs": [],
   "source": [
    "# YOUR CODE HERE\n",
    "sentence.split()"
   ]
  },
  {
   "cell_type": "markdown",
   "metadata": {},
   "source": [
    "Finally, look up the `split()` method using your search engine. For instance, look for `python split() documentation`.\n",
    "\n",
    "You will find that you can use `sep='.'` in between the parenthesis of `split()`, when applying it to `sentence`. What does it look like this argument does? What is the output?"
   ]
  },
  {
   "cell_type": "code",
   "execution_count": null,
   "metadata": {},
   "outputs": [],
   "source": [
    "# YOUR CODE HERE\n"
   ]
  },
  {
   "cell_type": "markdown",
   "metadata": {},
   "source": [
    "<a id='lists'></a>\n",
    "\n",
    "# Lists: Ordered Data Structures\n",
    "\n",
    "**Data structures** allow us to organize data. A list is one such data structure. It is a collection of ordered items. Use a list when you want to keep a bunch of items in one spot.\n",
    "\n",
    "We specify a list with square brackets: `[]` and commas separating each entry in the list."
   ]
  },
  {
   "cell_type": "code",
   "execution_count": null,
   "metadata": {
    "tags": []
   },
   "outputs": [],
   "source": [
    "country_list = ['Ethiopia', 'Canada', 'Thailand', 'Denmark', 'Japan']\n",
    "type(country_list)"
   ]
  },
  {
   "cell_type": "markdown",
   "metadata": {},
   "source": [
    "🔔 **Question:** `len()` gives us the number of items in a list. What is the output of the line below?"
   ]
  },
  {
   "cell_type": "code",
   "execution_count": null,
   "metadata": {
    "tags": []
   },
   "outputs": [],
   "source": [
    "len(country_list)"
   ]
  },
  {
   "cell_type": "markdown",
   "metadata": {
    "tags": []
   },
   "source": [
    "## Indexing Lists"
   ]
  },
  {
   "cell_type": "markdown",
   "metadata": {},
   "source": [
    "Here's our list of countries:"
   ]
  },
  {
   "cell_type": "code",
   "execution_count": null,
   "metadata": {
    "tags": []
   },
   "outputs": [],
   "source": [
    "country_list"
   ]
  },
  {
   "cell_type": "markdown",
   "metadata": {},
   "source": [
    "If we want to retrieve an item of a list, we do so by telling Python which **index** of the list we want (e.g., we want the first, second, and third items). This is called **indexing** the list. \n",
    "\n",
    "To index, we use **square brackets**."
   ]
  },
  {
   "cell_type": "markdown",
   "metadata": {},
   "source": [
    "🔔 **Question:** Look at the index we create for `country_list` below. What do you think will be printed?"
   ]
  },
  {
   "cell_type": "code",
   "execution_count": null,
   "metadata": {
    "tags": []
   },
   "outputs": [],
   "source": [
    "country_list[0:3]"
   ]
  },
  {
   "cell_type": "markdown",
   "metadata": {},
   "source": [
    "Note that Python is **zero**-indexed, meaning the first item has index zero, not one! "
   ]
  },
  {
   "cell_type": "markdown",
   "metadata": {},
   "source": [
    "We can also get multiple items from a list. We specify the start index and the end index, separated by a colon `[start:stop]`. \n",
    "\n",
    "The colon indicates that you want to access the item between the two endpoints. If one side of the colon is empty, it indicates using one end of the list as the starting or ending points. "
   ]
  },
  {
   "cell_type": "markdown",
   "metadata": {},
   "source": [
    "🔔 **Question:** Can you guess what the output of these statements will be?"
   ]
  },
  {
   "cell_type": "code",
   "execution_count": null,
   "metadata": {
    "tags": []
   },
   "outputs": [],
   "source": [
    "country_list[1:3]"
   ]
  },
  {
   "cell_type": "code",
   "execution_count": null,
   "metadata": {
    "tags": []
   },
   "outputs": [],
   "source": [
    "country_list[2:5]"
   ]
  },
  {
   "cell_type": "code",
   "execution_count": null,
   "metadata": {
    "tags": []
   },
   "outputs": [],
   "source": [
    "country_list[:3]"
   ]
  },
  {
   "cell_type": "markdown",
   "metadata": {},
   "source": [
    "⚠️ **Warning:** Note that Python will include the item at the start index, but **exclude** the item at the stop index. Here's what happens if you slice `country_list[1:4]`:"
   ]
  },
  {
   "cell_type": "markdown",
   "metadata": {},
   "source": [
    "<img src=\"../img/list-index.png\" alt=\"List Indexing in Python\" width=\"500\"/>"
   ]
  },
  {
   "cell_type": "markdown",
   "metadata": {
    "tags": []
   },
   "source": [
    "## 🥊 Challenge 4: Indexing\n",
    "\n",
    "Index the following list to get rid of the values `1`, `3`, and `5`. There are different ways to do this!"
   ]
  },
  {
   "cell_type": "code",
   "execution_count": null,
   "metadata": {
    "tags": []
   },
   "outputs": [],
   "source": [
    "numbers = [1, 3, 5, 7, 10, 13]\n",
    "\n",
    "# YOUR CODE HERE\n",
    "\n",
    "numbers[3:]\n"
   ]
  },
  {
   "cell_type": "markdown",
   "metadata": {},
   "source": [
    "📝 **Poll PyFun 2-2:** How can we index the list to get rid of the values 1, 3, and 5?"
   ]
  },
  {
   "cell_type": "markdown",
   "metadata": {},
   "source": [
    "Note that lists can contain different data types, such as integers, floats, strings, and even other lists!"
   ]
  },
  {
   "cell_type": "markdown",
   "metadata": {},
   "source": [
    "## List Methods\n",
    "\n",
    "Recall that methods are functions that operate specifically on objects with a particular data type. They are accessed via dot notation: `object.method()`. \n",
    "\n",
    "Lists have their own methods that perform operations specific to lists. The most common method is the `append()` method, which adds an item to the end of a list. \n",
    "\n",
    "The code below adds a country to `country_list` using `append()`:"
   ]
  },
  {
   "cell_type": "code",
   "execution_count": null,
   "metadata": {
    "tags": []
   },
   "outputs": [],
   "source": [
    "print(country_list)"
   ]
  },
  {
   "cell_type": "code",
   "execution_count": null,
   "metadata": {
    "tags": []
   },
   "outputs": [],
   "source": [
    "country_list.append('USA')"
   ]
  },
  {
   "cell_type": "code",
   "execution_count": null,
   "metadata": {
    "tags": []
   },
   "outputs": [],
   "source": [
    "print(country_list)"
   ]
  },
  {
   "cell_type": "code",
   "execution_count": null,
   "metadata": {
    "tags": []
   },
   "outputs": [],
   "source": [
    "country_list"
   ]
  },
  {
   "cell_type": "markdown",
   "metadata": {},
   "source": [
    "🔔 **Question:** Is there anything noteworthy about the way `.append()` seems to work? (Tip: it has to do with assigning variables!)"
   ]
  },
  {
   "cell_type": "markdown",
   "metadata": {},
   "source": [
    "<a id='dicts'></a>\n",
    "\n",
    "# Dictionaries: Key-Value Pairs\n",
    "\n",
    "Dictionaries are organized in pairs of keys and values. The **keys** can be used to access the **values**. Use a dictionary when you have data organized in pairs. In our context, dictionaries can be used to create tabular data (a so-called **data frame**). We'll show you how to do this later. \n",
    "\n",
    "Dictionaries are specified in Python using curly braces. **Colons separate the keys and values**. \n",
    "\n",
    "Let's take a look at an example dictionary:"
   ]
  },
  {
   "cell_type": "code",
   "execution_count": 1,
   "metadata": {},
   "outputs": [],
   "source": [
    "# An example dictionary\n",
    "example_dict = {\n",
    "    'country': 'Afghanistan',\n",
    "    'year': 1952,\n",
    "    'population': 8425333}"
   ]
  },
  {
   "cell_type": "markdown",
   "metadata": {},
   "source": [
    "We can access the items of a dictionary by referring to its key name, inside square brackets. "
   ]
  },
  {
   "cell_type": "code",
   "execution_count": 2,
   "metadata": {},
   "outputs": [
    {
     "data": {
      "text/plain": [
       "1952"
      ]
     },
     "execution_count": 2,
     "metadata": {},
     "output_type": "execute_result"
    }
   ],
   "source": [
    "example_dict['year']"
   ]
  },
  {
   "cell_type": "code",
   "execution_count": 3,
   "metadata": {
    "tags": []
   },
   "outputs": [
    {
     "data": {
      "text/plain": [
       "{'country': 'Afghanistan', 'year': 1952, 'population': 8425333}"
      ]
     },
     "execution_count": 3,
     "metadata": {},
     "output_type": "execute_result"
    }
   ],
   "source": [
    "example_dict"
   ]
  },
  {
   "cell_type": "markdown",
   "metadata": {},
   "source": [
    "🔔 **Question**: What do you think the following cell will do?"
   ]
  },
  {
   "cell_type": "code",
   "execution_count": 4,
   "metadata": {},
   "outputs": [
    {
     "data": {
      "text/plain": [
       "8425333"
      ]
     },
     "execution_count": 4,
     "metadata": {},
     "output_type": "execute_result"
    }
   ],
   "source": [
    "example_dict['population']"
   ]
  },
  {
   "cell_type": "markdown",
   "metadata": {},
   "source": [
    "## List or Dict?\n",
    "\n",
    "When would you use a list, and when a dictionary?\n",
    "\n",
    "Take our Gapminder dataset with countries, continents, and life expectancies as an example. A list could contain the data of one of the columns – for instance, the country names.\n",
    "\n",
    "A dictionary could contain a bunch of columns, with the key being the column name, and the values being lists of items for each column! \n",
    "\n",
    "Let's see that in action."
   ]
  },
  {
   "cell_type": "markdown",
   "metadata": {},
   "source": [
    "## 🎬 Demo: Creating a Dictionary\n",
    "\n",
    "Here, we will create a dictionary called `country_dict` that takes in a list of items as its values."
   ]
  },
  {
   "cell_type": "code",
   "execution_count": 5,
   "metadata": {},
   "outputs": [
    {
     "data": {
      "text/plain": [
       "{'country': ['Afghanistan', 'Greece', 'Liberia'],\n",
       " 'continent': ['Asia', 'Europe', 'Africa'],\n",
       " 'life_exp': [28.801, 76.67, 46.027]}"
      ]
     },
     "execution_count": 5,
     "metadata": {},
     "output_type": "execute_result"
    }
   ],
   "source": [
    "country = ['Afghanistan', 'Greece', 'Liberia']\n",
    "continent = ['Asia', 'Europe', 'Africa']\n",
    "life_exp = [28.801, 76.670, 46.027]\n",
    "\n",
    "# Creating a dict from lists\n",
    "country_dict = {'country':country, 'continent':continent, 'life_exp':life_exp}\n",
    "country_dict"
   ]
  },
  {
   "cell_type": "markdown",
   "metadata": {},
   "source": [
    "Dictionaries have another advantage – it's easy to turn them into a **data frame**! You'll learn more about data frames in the next workshop."
   ]
  },
  {
   "cell_type": "code",
   "execution_count": 6,
   "metadata": {},
   "outputs": [
    {
     "data": {
      "text/html": [
       "<div>\n",
       "<style scoped>\n",
       "    .dataframe tbody tr th:only-of-type {\n",
       "        vertical-align: middle;\n",
       "    }\n",
       "\n",
       "    .dataframe tbody tr th {\n",
       "        vertical-align: top;\n",
       "    }\n",
       "\n",
       "    .dataframe thead th {\n",
       "        text-align: right;\n",
       "    }\n",
       "</style>\n",
       "<table border=\"1\" class=\"dataframe\">\n",
       "  <thead>\n",
       "    <tr style=\"text-align: right;\">\n",
       "      <th></th>\n",
       "      <th>country</th>\n",
       "      <th>continent</th>\n",
       "      <th>life_exp</th>\n",
       "    </tr>\n",
       "  </thead>\n",
       "  <tbody>\n",
       "    <tr>\n",
       "      <th>0</th>\n",
       "      <td>Afghanistan</td>\n",
       "      <td>Asia</td>\n",
       "      <td>28.801</td>\n",
       "    </tr>\n",
       "    <tr>\n",
       "      <th>1</th>\n",
       "      <td>Greece</td>\n",
       "      <td>Europe</td>\n",
       "      <td>76.670</td>\n",
       "    </tr>\n",
       "    <tr>\n",
       "      <th>2</th>\n",
       "      <td>Liberia</td>\n",
       "      <td>Africa</td>\n",
       "      <td>46.027</td>\n",
       "    </tr>\n",
       "  </tbody>\n",
       "</table>\n",
       "</div>"
      ],
      "text/plain": [
       "       country continent  life_exp\n",
       "0  Afghanistan      Asia    28.801\n",
       "1       Greece    Europe    76.670\n",
       "2      Liberia    Africa    46.027"
      ]
     },
     "execution_count": 6,
     "metadata": {},
     "output_type": "execute_result"
    }
   ],
   "source": [
    "import pandas as pd\n",
    "\n",
    "pd.DataFrame(country_dict)"
   ]
  },
  {
   "cell_type": "markdown",
   "metadata": {
    "jp-MarkdownHeadingCollapsed": true,
    "tags": []
   },
   "source": [
    "<div class=\"alert alert-success\">\n",
    "\n",
    "## ❗ Key Points\n",
    "\n",
    "* Methods are functions that only work on certain data types.\n",
    "* Lists are a collection of ordered items, which can contain different data types.\n",
    "* List indices start at 0, not 1.\n",
    "* The `.append()` method adds an item to a list.\n",
    "* Lists can be indexed using square brackets - e.g. `some_list[0]` indexes the first item of `some_list`. \n",
    "* Dictionaries are mappings of key-value pairs. \n",
    "* Dictionary values can be accessed using square brackets – e.g. `some_dict['name']` accesses the value corresponding to the 'name' key.\n",
    "    \n",
    "</div>"
   ]
  }
 ],
 "metadata": {
  "kernelspec": {
   "display_name": "Python 3 (ipykernel)",
   "language": "python",
   "name": "python3"
  },
  "language_info": {
   "codemirror_mode": {
    "name": "ipython",
    "version": 3
   },
   "file_extension": ".py",
   "mimetype": "text/x-python",
   "name": "python",
   "nbconvert_exporter": "python",
   "pygments_lexer": "ipython3",
   "version": "3.11.5"
  },
  "toc": {
   "base_numbering": 1,
   "nav_menu": {},
   "number_sections": false,
   "sideBar": true,
   "skip_h1_title": false,
   "title_cell": "Table of Contents",
   "title_sidebar": "Contents",
   "toc_cell": false,
   "toc_position": {},
   "toc_section_display": true,
   "toc_window_display": true
  },
  "varInspector": {
   "cols": {
    "lenName": 16,
    "lenType": 16,
    "lenVar": 40
   },
   "kernels_config": {
    "python": {
     "delete_cmd_postfix": "",
     "delete_cmd_prefix": "del ",
     "library": "var_list.py",
     "varRefreshCmd": "print(var_dic_list())"
    },
    "r": {
     "delete_cmd_postfix": ") ",
     "delete_cmd_prefix": "rm(",
     "library": "var_list.r",
     "varRefreshCmd": "cat(var_dic_list()) "
    }
   },
   "types_to_exclude": [
    "module",
    "function",
    "builtin_function_or_method",
    "instance",
    "_Feature"
   ],
   "window_display": false
  }
 },
 "nbformat": 4,
 "nbformat_minor": 4
}
